{
 "cells": [
  {
   "cell_type": "markdown",
   "id": "personal-telling",
   "metadata": {},
   "source": [
    "1) 1. Write a Python program to find those numbers which are divisible by 8 and 3 but multiple of 9, between 1000 and 1800 (both included)\n"
   ]
  },
  {
   "cell_type": "code",
   "execution_count": 25,
   "id": "thick-effort",
   "metadata": {},
   "outputs": [
    {
     "name": "stdout",
     "output_type": "stream",
     "text": [
      "1008\n",
      "1080\n",
      "1152\n",
      "1224\n",
      "1296\n",
      "1368\n",
      "1440\n",
      "1512\n",
      "1584\n",
      "1656\n",
      "1728\n"
     ]
    }
   ],
   "source": [
    "n1=[]\n",
    "for x in range(1000,1800):\n",
    "    if(x%8==0) and (x%3==0) and (x%9==0):\n",
    "        print(x)\n",
    "    "
   ]
  },
  {
   "cell_type": "markdown",
   "id": "maritime-concord",
   "metadata": {},
   "source": [
    "2) touple = ('I','E','E','E','H','S','T','U','S','B')\n",
    "Using this touple, write a program whose output will be IEEE HSTU SB."
   ]
  },
  {
   "cell_type": "code",
   "execution_count": 32,
   "id": "preliminary-flower",
   "metadata": {},
   "outputs": [
    {
     "name": "stdout",
     "output_type": "stream",
     "text": [
      "  IEEEHSTUSB\n"
     ]
    }
   ],
   "source": [
    "touple = ('I','E','E','E','H','S','T','U','S','B') \n",
    "str=''\n",
    "for item in touple:\n",
    "    \n",
    "    str = str+item\n",
    "print(str)    "
   ]
  },
  {
   "cell_type": "markdown",
   "id": "cognitive-anchor",
   "metadata": {},
   "source": [
    "\n",
    "3) Write a Python program to check a triangle is equilateral, isosceles or scalene.\n",
    "Note :\n",
    "An equilateral triangle is a triangle in which all three sides are equal.\n",
    "A scalene triangle is a triangle that has three unequal sides.\n",
    "An isosceles triangle is a triangle with (at least) two equal sides."
   ]
  },
  {
   "cell_type": "code",
   "execution_count": 3,
   "id": "imperial-familiar",
   "metadata": {},
   "outputs": [
    {
     "name": "stdout",
     "output_type": "stream",
     "text": [
      "The length of triangles:\n",
      "a: 23\n",
      "b: 45\n",
      "c: 56\n",
      "Scalene Traingle\n"
     ]
    }
   ],
   "source": [
    "print(\"The length of triangles:\")\n",
    "a=int(input(\"a: \"))\n",
    "b=int(input(\"b: \"))\n",
    "c=int(input(\"c: \"))\n",
    "if(a==b==c):\n",
    "    print(\"Equilateral Traingle\")\n",
    "elif a==b or b==c or a==c:\n",
    "    print(\"Isosceles Traingle\")\n",
    "else:\n",
    "    print(\"Scalene Traingle\")"
   ]
  },
  {
   "cell_type": "markdown",
   "id": "diagnostic-radiation",
   "metadata": {},
   "source": [
    "\n",
    "4) Write a Python program to create the multiplication table (from 1 to 10) of a number."
   ]
  },
  {
   "cell_type": "code",
   "execution_count": 5,
   "id": "auburn-fellowship",
   "metadata": {},
   "outputs": [
    {
     "name": "stdout",
     "output_type": "stream",
     "text": [
      "Input number:8\n",
      "8 x 1 = 8\n",
      "8 x 2 = 16\n",
      "8 x 3 = 24\n",
      "8 x 4 = 32\n",
      "8 x 5 = 40\n",
      "8 x 6 = 48\n",
      "8 x 7 = 56\n",
      "8 x 8 = 64\n",
      "8 x 9 = 72\n",
      "8 x 10 = 80\n"
     ]
    }
   ],
   "source": [
    "p=int(input(\"Input number:\"))\n",
    "for i in range(1,11):\n",
    "    print(p,'x',i,'=',p*i)"
   ]
  },
  {
   "cell_type": "markdown",
   "id": "growing-receiver",
   "metadata": {},
   "source": [
    "5) Write a python program to check whether a given year is a leap year"
   ]
  },
  {
   "cell_type": "code",
   "execution_count": 6,
   "id": "civilian-wiring",
   "metadata": {},
   "outputs": [
    {
     "name": "stdout",
     "output_type": "stream",
     "text": [
      "enter a:2013\n",
      "Not a leapyear\n"
     ]
    }
   ],
   "source": [
    "a=int(input(\"enter a:\"))\n",
    "if(a%400==0):\n",
    "    print(\"Leapyear\")\n",
    "    \n",
    "elif(a%4==0 and a%100!=0):\n",
    "    print(\"Leapyear\")\n",
    "else:\n",
    "    print(\"Not a leapyear\")"
   ]
  },
  {
   "cell_type": "markdown",
   "id": "persistent-climate",
   "metadata": {},
   "source": [
    "\n",
    "6) Write the programs to get the areas of a) triangle, b)Rectangle, c) circle."
   ]
  },
  {
   "cell_type": "markdown",
   "id": "julian-blood",
   "metadata": {},
   "source": [
    "(a)solution:"
   ]
  },
  {
   "cell_type": "code",
   "execution_count": 10,
   "id": "american-allah",
   "metadata": {},
   "outputs": [
    {
     "name": "stdout",
     "output_type": "stream",
     "text": [
      "base : 3.5\n",
      "height : 7.9\n",
      "The area of triangle is = 13.825000000000001\n"
     ]
    }
   ],
   "source": [
    "base=float(input(\"base : \"))\n",
    "height=float(input(\"height : \"))\n",
    "print(\"The area of triangle is\",'=',0.5*base*height)"
   ]
  },
  {
   "cell_type": "markdown",
   "id": "standing-samba",
   "metadata": {},
   "source": [
    "(b)solution:"
   ]
  },
  {
   "cell_type": "code",
   "execution_count": 13,
   "id": "foreign-vegetable",
   "metadata": {},
   "outputs": [
    {
     "name": "stdout",
     "output_type": "stream",
     "text": [
      "len : 5\n",
      "wid : 9\n",
      "The area of rectangle is = 45.0\n"
     ]
    }
   ],
   "source": [
    "len=float(input(\"len : \"))\n",
    "wid=float(input(\"wid : \"))\n",
    "print(\"The area of rectangle is\",'=',len*wid)"
   ]
  },
  {
   "cell_type": "markdown",
   "id": "descending-architecture",
   "metadata": {},
   "source": [
    "(c)solution:"
   ]
  },
  {
   "cell_type": "code",
   "execution_count": 14,
   "id": "parallel-deviation",
   "metadata": {},
   "outputs": [
    {
     "name": "stdout",
     "output_type": "stream",
     "text": [
      "radius : 4\n",
      "The area of circle is = 50.2656\n"
     ]
    }
   ],
   "source": [
    "radius=float(input(\"radius : \"))\n",
    "PI=3.1416;\n",
    "print(\"The area of circle is\",'=',PI*radius*radius)"
   ]
  },
  {
   "cell_type": "code",
   "execution_count": null,
   "id": "genuine-reserve",
   "metadata": {},
   "outputs": [],
   "source": []
  }
 ],
 "metadata": {
  "kernelspec": {
   "display_name": "Python 3",
   "language": "python",
   "name": "python3"
  },
  "language_info": {
   "codemirror_mode": {
    "name": "ipython",
    "version": 3
   },
   "file_extension": ".py",
   "mimetype": "text/x-python",
   "name": "python",
   "nbconvert_exporter": "python",
   "pygments_lexer": "ipython3",
   "version": "3.9.2"
  }
 },
 "nbformat": 4,
 "nbformat_minor": 5
}
